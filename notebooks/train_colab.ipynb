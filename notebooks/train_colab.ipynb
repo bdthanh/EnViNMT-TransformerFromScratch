{
 "cells": [
  {
   "cell_type": "code",
   "execution_count": null,
   "metadata": {
    "vscode": {
     "languageId": "bat"
    }
   },
   "outputs": [],
   "source": [
    "%%capture\n",
    "!git clone https://github.com/bdthanh/EnViNMT-TransformerFromScratch.git\n",
    "%cd EnViNMT-TransformerFromScratch\n",
    "!pip install -r requirements.txt\n",
    "!python train.py"
   ]
  }
 ],
 "metadata": {
  "language_info": {
   "name": "python"
  }
 },
 "nbformat": 4,
 "nbformat_minor": 2
}
